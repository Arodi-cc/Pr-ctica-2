{
  "nbformat": 4,
  "nbformat_minor": 0,
  "metadata": {
    "colab": {
      "provenance": []
    },
    "kernelspec": {
      "name": "python3",
      "display_name": "Python 3"
    },
    "language_info": {
      "name": "python"
    }
  },
  "cells": [
    {
      "cell_type": "code",
      "execution_count": 1,
      "metadata": {
        "id": "8BZDb1RsJtf6",
        "colab": {
          "base_uri": "https://localhost:8080/"
        },
        "outputId": "ca712eee-7ae6-4da1-b9d4-c1d78daad891"
      },
      "outputs": [
        {
          "output_type": "stream",
          "name": "stdout",
          "text": [
            "[[ 1.41421356  0.          0.        ]\n",
            " [-0.70710678  1.22474487  0.        ]\n",
            " [ 0.         -0.81649658  1.15470054]]\n",
            "[[ 2.          0.          0.          0.        ]\n",
            " [ 0.5         1.6583124   0.          0.        ]\n",
            " [ 0.5        -0.75377836  1.08711461  0.        ]\n",
            " [ 0.5         0.45226702  0.0836242   1.24034735]]\n",
            "[[ 2.          0.          0.          0.        ]\n",
            " [ 0.5         1.6583124   0.          0.        ]\n",
            " [-0.5        -0.45226702  2.13200716  0.        ]\n",
            " [ 0.          0.          0.93808315  1.76635217]]\n",
            "[[ 2.44948974  0.          0.          0.        ]\n",
            " [ 0.81649658  1.82574186  0.          0.        ]\n",
            " [ 0.40824829  0.36514837  1.92353841  0.        ]\n",
            " [-0.40824829  0.18257419 -0.46788772  1.60657433]]\n"
          ]
        }
      ],
      "source": [
        "import numpy as np\n",
        "\n",
        "def cholesky(A):#cholesky(A): Define la función que realiza la factorización de Cholesky.\n",
        "\n",
        "\n",
        "    n = A.shape[0]  # Obtener el tamaño de la matriz\n",
        "    L = np.zeros((n, n))  # Inicializar la matriz L con ceros\n",
        "    # L será la matriz triangular inferior que buscamos\n",
        "\n",
        "    for i in range(n):\n",
        "        for j in range(i + 1):  #tera a través de la matriz L, calculando sus elementos fila por fila y columna por columna.\n",
        "                                #La iteración se realiza solo hasta la diagonal porque L es triangular inferior.\n",
        "            suma = 0\n",
        "            for k in range(j):\n",
        "                suma += L[i, k] * L[j, k]#Calcula la suma de los productos de los elementos de L en la fila i y la columna j.\n",
        "\n",
        "            if i == j: #Si estamos en la diagonal, calculamos el elemento diagonal de L.\n",
        "                # Elemento diagonal\n",
        "                L[i, j] = np.sqrt(A[i, i] - suma)\n",
        "            else: #Si no estamos en la diagonal, calculamos el elemento fuera de la diagonal de L\n",
        "                # Elemento fuera de la diagonal\n",
        "                L[i, j] = (A[i, j] - suma) / L[j, j]\n",
        "    return L\n",
        "\n",
        "A = np.array([[2, -1, 0], [-1, 2, -1], [0, -1, 2]])  # Matriz simétrica definida positiva\n",
        "L = cholesky(A)\n",
        "print(L)\n",
        "B = np.array([[4, 1, 1, 1], [1, 3, -1, -1],[1, -1, 2, 0], [1, 1, 0, 2]])\n",
        "L = cholesky(B)\n",
        "print(L)\n",
        "C = np.array([[4, 1, -1, 0], [1, 3, -1, 0], [-1, -1, 5, 2], [0, 0, 2, 4]])\n",
        "L = cholesky(C)\n",
        "print(L)\n",
        "D = np.array([[6, 2, 1, -1], [2, 4, 1, 0],[1, 1, 4, -1], [-1, 0, -1, 3]])\n",
        "L = cholesky(D)\n",
        "print(L)"
      ]
    }
  ]
}