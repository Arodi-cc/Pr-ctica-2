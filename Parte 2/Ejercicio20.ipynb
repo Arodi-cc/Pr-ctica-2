{
 "cells": [
  {
   "cell_type": "code",
   "execution_count": 1,
   "id": "8d254519",
   "metadata": {},
   "outputs": [],
   "source": [
    "import numpy as np\n",
    "def MatrizGauss(M,v):\n",
    "    n = len(M)\n",
    "\n",
    "    A = np.array(M,float)\n",
    "    b = np.array(v,float)\n",
    "      \n",
    "    for i in range(n):\n",
    "        a = A[i]/A[i][i]\n",
    "        c = b[i]/A[i][i]\n",
    "        A[i] = a\n",
    "        b[i] = c\n",
    "        \n",
    "        for j in range(i+1,n):\n",
    "            r = A[j]-(A[j][i]*A[i])\n",
    "            p = b[j]-(A[j][i]*b[i])\n",
    "            A[j] = r\n",
    "            b[j] = p\n",
    "            \n",
    "    s = np.zeros(n,float)\n",
    "\n",
    "    for i in range(n-1,-1,-1):\n",
    "        s[i] = b[i] - np.dot(A[i],s)\n",
    "    \n",
    "    return s"
   ]
  },
  {
   "cell_type": "code",
   "execution_count": 5,
   "id": "d940cd92",
   "metadata": {},
   "outputs": [],
   "source": [
    "\n",
    "\n",
    "A = [[2,4,-2],[4,9,-3],[-2,-1,7]]\n",
    "\n",
    "b = [4,8,6]\n"
   ]
  },
  {
   "cell_type": "code",
   "execution_count": 6,
   "id": "165ba546",
   "metadata": {},
   "outputs": [
    {
     "data": {
      "text/plain": [
       "array([17., -5.,  5.])"
      ]
     },
     "execution_count": 6,
     "metadata": {},
     "output_type": "execute_result"
    }
   ],
   "source": [
    "MatrizGauss(A,b)"
   ]
  }
 ],
 "metadata": {
  "kernelspec": {
   "display_name": "Python 3 (ipykernel)",
   "language": "python",
   "name": "python3"
  },
  "language_info": {
   "codemirror_mode": {
    "name": "ipython",
    "version": 3
   },
   "file_extension": ".py",
   "mimetype": "text/x-python",
   "name": "python",
   "nbconvert_exporter": "python",
   "pygments_lexer": "ipython3",
   "version": "3.11.4"
  }
 },
 "nbformat": 4,
 "nbformat_minor": 5
}
