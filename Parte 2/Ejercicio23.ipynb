{
  "nbformat": 4,
  "nbformat_minor": 0,
  "metadata": {
    "colab": {
      "provenance": []
    },
    "kernelspec": {
      "name": "python3",
      "display_name": "Python 3"
    },
    "language_info": {
      "name": "python"
    }
  },
  "cells": [
    {
      "cell_type": "markdown",
      "source": [
        "Ejercicio 23"
      ],
      "metadata": {
        "id": "7WFE-LBBb2kH"
      }
    },
    {
      "cell_type": "code",
      "execution_count": 1,
      "metadata": {
        "id": "f5oBnq-Fa5tY"
      },
      "outputs": [],
      "source": [
        "import numpy as np"
      ]
    },
    {
      "cell_type": "code",
      "source": [
        "\n",
        "# Definimos la variable para almacenar cada valor de ε\n",
        "Val_ε=[]\n",
        "\n",
        "# Definimos la variable donde se almacenan todas las matrices para cada\n",
        "# Valor de ε\n",
        "Mat=[]\n",
        "\n",
        "# Definimos la variable donde se almacenará cada vector resultante\n",
        "Vect_r = []\n",
        "\n",
        "\n",
        "'''\n",
        "Definimos a todos los valores de ε con un ciclo 'for':\n",
        "ε = 10^(−2k), con k = 1, · · · , 10.\n",
        "'''\n",
        "\n",
        "# Tomamos el rango de k entre 1 y 10\n",
        "for k in range(1, 11):\n",
        "  # La definición de ε\n",
        "  ε = 10**(-2 * k)\n",
        "  Val_ε.append(ε)\n",
        "  # se almacenan los valores de ε para cada k, en una lista\n",
        "\n",
        "# Ahora usamos los valores de ε para hacer cada matriz con un valor\n",
        "# diferente para cada ε\n",
        "for i in Val_ε:\n",
        "  # Definimos la matriz A que tiene a cada valor de ε\n",
        "  A = np.array([[ε, 1], [1, 1]])\n",
        "  # agregamos cada matriz a una lista de matrices\n",
        "  Mat.append(A)\n",
        "\n",
        "\n",
        "'''\n",
        "Ahora definimos al vector resultante del sistema\n",
        "usando los valores que ya calculamos para ε\n",
        "'''\n",
        "\n",
        "for i in Val_ε:\n",
        "  # Definimos al vector resultante\n",
        "  V = np.array([1+i , 2])\n",
        "  # agregamos cada vector a la lista de vectores\n",
        "  Vect_r.append(V)\n",
        "\n",
        "'''\n",
        "definamos las matrices aumentadas\n",
        "\n",
        "'''\n",
        "for A, b_i in zip(Mat, Vect_r):\n",
        "    aumentada = []  # Lista para una matriz aumentada individual\n",
        "    for fila, b in zip(A, b_i):\n",
        "        # Concatenamos cada fila de la matriz A con el valor bi del vector b\n",
        "        fila_aumentada = fila + [b_i]\n",
        "        aumentada.append(fila_aumentada)\n",
        "    matrices_aumentadas.append(aumentada)\n",
        "\n",
        "# Convertir las matrices en matrices triangulares superiores\n",
        "# print(np.array(matrices_aumentadas[0:10]))\n",
        "MTS = np.triu(np.array(matrices_aumentadas[0:10]))\n",
        "\n",
        "\n",
        "# Ahora recuperemos el vector nuevo, despues de volver a la matriz, triangular\n",
        "# superior\n",
        "\n",
        "# En esta variable almacenamos el vector nuevo\n",
        "N_vect = []\n",
        "\n",
        "# Iteramos en cada matriz aumentada\n",
        "for matriz in MTS:\n",
        "    vector_n = []\n",
        "    for fila in matriz:\n",
        "        vector_n.append(fila[-1])\n",
        "    N_vect.append(vector_n)\n",
        "\n",
        "\n",
        "# Ahora recuperamos las nuevas matrices, triangulares S.\n",
        "Nueva_mat = []\n",
        "# Iteramos en cada matriz aumentada\n",
        "for m in MTS:\n",
        "    N_mat = []\n",
        "    for fila in m:\n",
        "        N_mat.append(fila[:-1])  # Excluir la última entrada de cada fila\n",
        "    Nueva_mat.append(N_mat)\n",
        "\n",
        "\n",
        "\n",
        "'''\n",
        "Ahora usaremos la funcion para la sustitucion hacia atras\n",
        "que se trabajó en clase, pero con modificaciones para que acepte\n",
        "listas de matrices y vectores\n",
        "'''\n",
        "\n",
        "def SustitucionAtras(lista_matrices, lista_vectores):\n",
        "    \"\"\"\n",
        "    Resuelve múltiples sistemas de ecuaciones usando sustitución hacia atrás.\n",
        "\n",
        "    Parámetros:\n",
        "    -----------\n",
        "    lista_matrices : list of lists\n",
        "        Lista de matrices triangulares superiores (cada una como lista de listas o np.array).\n",
        "    lista_vectores : list of lists\n",
        "        Lista de vectores independientes correspondientes a cada matriz.\n",
        "\n",
        "    Retorna:\n",
        "    --------\n",
        "    soluciones : list of np.ndarray\n",
        "        Lista de soluciones para cada sistema.\n",
        "\n",
        "    \"\"\"\n",
        "    soluciones = []\n",
        "\n",
        "    for mat, b in zip(lista_matrices, lista_vectores):\n",
        "        mat = np.array(mat)\n",
        "        b = np.array(b)\n",
        "        n = mat.shape[0]\n",
        "        x = np.zeros(n)\n",
        "\n",
        "        for i in range(n - 1, -1, -1):\n",
        "            suma = 0.0\n",
        "            for j in range(i + 1, n):\n",
        "                suma += mat[i, j] * x[j]\n",
        "            x[i] = (b[i] - suma) / mat[i, i]\n",
        "\n",
        "        soluciones.append(x)\n",
        "\n",
        "    return soluciones\n",
        "'''\n",
        "Soluciones del sistema:\n",
        "'''\n",
        "# primero nos aseguramos de que todos los datos sean arreglos de numpy\n",
        "Vector_final = []\n",
        "\n",
        "for i in N_vect:\n",
        "  V= np.array(i)\n",
        "  Vector_final.append(V)\n",
        "\n",
        "Matriz_final = []\n",
        "for j in Nueva_mat:\n",
        "  mt = np.array(j)\n",
        "  Matriz_final.append(mt)\n",
        "\n",
        "# imprimimos los resultados\n",
        "SustitucionAtras(Matriz_final, Vector_final)\n",
        "\n"
      ],
      "metadata": {
        "colab": {
          "base_uri": "https://localhost:8080/"
        },
        "id": "0r3xdn_Xb873",
        "outputId": "f0dc2425-9dc8-4947-8460-b58daad2055b"
      },
      "execution_count": 128,
      "outputs": [
        {
          "output_type": "execute_result",
          "data": {
            "text/plain": [
              "[array([-99.,   2.]),\n",
              " array([-9.999e+03,  2.000e+00]),\n",
              " array([-9.99999e+05,  2.00000e+00]),\n",
              " array([-9.9999999e+07,  2.0000000e+00]),\n",
              " array([-1.e+10,  2.e+00]),\n",
              " array([-1.e+12,  2.e+00]),\n",
              " array([-1.e+14,  2.e+00]),\n",
              " array([-1.e+16,  2.e+00]),\n",
              " array([-1.e+18,  2.e+00]),\n",
              " array([-1.e+20,  2.e+00])]"
            ]
          },
          "metadata": {},
          "execution_count": 128
        }
      ]
    },
    {
      "cell_type": "markdown",
      "source": [
        "a medida que epsilon decrece, la soluciones nuevas, se alejan más de la solucion original"
      ],
      "metadata": {
        "id": "5OjY4a3mA4M3"
      }
    }
  ]
}