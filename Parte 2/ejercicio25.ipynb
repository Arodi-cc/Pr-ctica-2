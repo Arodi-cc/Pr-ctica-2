{
  "nbformat": 4,
  "nbformat_minor": 0,
  "metadata": {
    "colab": {
      "provenance": []
    },
    "kernelspec": {
      "name": "python3",
      "display_name": "Python 3"
    },
    "language_info": {
      "name": "python"
    }
  },
  "cells": [
    {
      "cell_type": "markdown",
      "source": [
        "##  Ejercicio 25"
      ],
      "metadata": {
        "id": "4jbgMnN1bjka"
      }
    },
    {
      "cell_type": "code",
      "execution_count": 20,
      "metadata": {
        "colab": {
          "base_uri": "https://localhost:8080/"
        },
        "id": "Z29OZoPUY4cX",
        "outputId": "1bd6d6ae-3026-422f-c01c-cb7ccc0f9667"
      },
      "outputs": [
        {
          "output_type": "stream",
          "name": "stdout",
          "text": [
            "Solución inciso (a) con Cholesky: [0.06814815 0.05432099 0.3037037 ]\n",
            "Solución inciso (b) con LDL^T: [0.06814815 0.05432099 0.3037037 ]\n",
            "Solución analítica (LA.solve): [0.06814815 0.05432099 0.3037037 ]\n"
          ]
        }
      ],
      "source": [
        "import numpy as np\n",
        "from numpy import linalg as LA\n",
        "\n",
        "\n",
        "def Cholesky(A):\n",
        "\n",
        "    # Inciso (a): Factorización de Cholesky A = L L^T.\n",
        "    # Devuelve L (triangular inferior).\n",
        "\n",
        "    A = np.array(A, dtype=float)\n",
        "    n = A.shape[0]\n",
        "    L = np.zeros_like(A)\n",
        "    for i in range(n):\n",
        "        for j in range(i+1):\n",
        "            if i == j:\n",
        "                s = 0.0\n",
        "                for k in range(i):\n",
        "                    s += L[i, k] * L[i, k]\n",
        "                val = A[i, i] - s\n",
        "                if val <= 0:\n",
        "                    raise LA.LinAlgError(\"La matriz no es definida positiva.\")\n",
        "                L[i, i] = np.sqrt(val)\n",
        "            else:\n",
        "                s = 0.0\n",
        "                for k in range(j):\n",
        "                    s += L[i, k] * L[j, k]\n",
        "                L[i, j] = (A[i, j] - s) / L[j, j]\n",
        "    return L\n",
        "\n",
        "\n",
        "def SolveChol(A, b):\n",
        "\n",
        "    # Inciso (a): Resuelve A x = b usando la factorización de Cholesky.\n",
        "\n",
        "    L = Cholesky(A)\n",
        "    y = SustDelante(L, b)\n",
        "    x = SustAtras(L.T, y)\n",
        "    return x\n",
        "\n",
        "\n",
        "def LDLt(A):\n",
        "\n",
        "    # Inciso (b): Factorización A = L D L^T,\n",
        "    # donde L es unitarias en diagonal y D diagonal.\n",
        "    # Devuelve (L, D)\n",
        "\n",
        "    A = np.array(A, dtype=float)\n",
        "    n = A.shape[0]\n",
        "    L = np.eye(n)\n",
        "    D = np.zeros(n)\n",
        "    for i in range(n):\n",
        "        s = 0.0\n",
        "        for k in range(i):\n",
        "            s += L[i, k]**2 * D[k]\n",
        "        D[i] = A[i, i] - s\n",
        "        if D[i] <= 0:\n",
        "            raise LA.LinAlgError(\"La matriz no es definida positiva.\")\n",
        "        for j in range(i+1, n):\n",
        "            s = 0.0\n",
        "            for k in range(i):\n",
        "                s += L[j, k] * L[i, k] * D[k]\n",
        "            L[j, i] = (A[j, i] - s) / D[i]\n",
        "    return L, np.diag(D)\n",
        "\n",
        "\n",
        "def SolveLDLt(A, b):\n",
        "\n",
        "    # Inciso (b): Resuelve A x = b usando la factorización LDL^T.\n",
        "\n",
        "    L, D = LDLt(A)\n",
        "    y = SustDelante(L, b)\n",
        "    z = y / np.diag(D)\n",
        "    x = SustAtras(L.T, z)\n",
        "    return x\n",
        "\n",
        "\n",
        "# Ejemplo de uso con una matriz de prueba\n",
        "\n",
        "A = np.array([[25, 15, -5],[15, 18,  0],[-5,  0, 11]])\n",
        "b = np.array([1, 2, 3])\n",
        "\n",
        "# Inciso (a): Cholesky\n",
        "x_chol = SolveChol(A, b)\n",
        "print(\"Solución inciso (a) con Cholesky:\", x_chol)\n",
        "\n",
        "# Inciso (b): LDL^T\n",
        "x_ldlt = SolveLDLt(A, b)\n",
        "print(\"Solución inciso (b) con LDL^T:\", x_ldlt)\n",
        "\n",
        "x_ana = LA.solve(A, b)\n",
        "print(\"Solución analítica (LA.solve):\", x_ana)\n"
      ]
    }
  ]
}